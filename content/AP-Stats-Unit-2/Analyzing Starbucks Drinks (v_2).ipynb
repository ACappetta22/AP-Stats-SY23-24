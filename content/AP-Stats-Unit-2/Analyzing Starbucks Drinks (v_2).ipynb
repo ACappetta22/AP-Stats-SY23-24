{
 "cells": [
  {
   "cell_type": "markdown",
   "id": "a7576278",
   "metadata": {},
   "source": [
    "## Starbucks Drinks Nutritional Facts\n",
    "(reminder - you need to fill in all ??? with code)"
   ]
  },
  {
   "cell_type": "markdown",
   "id": "b90f760e",
   "metadata": {},
   "source": [
    "<br>**Journal Reflection:** On First Glance"
   ]
  },
  {
   "cell_type": "markdown",
   "id": "af307415",
   "metadata": {},
   "source": [
    "<img src = \"starbucks_drinks.png\" width=550>"
   ]
  },
  {
   "cell_type": "markdown",
   "id": "74a246b8",
   "metadata": {},
   "source": [
    "<br>**Why would a person want to analzye the nutrional facts of Starbucks drinks?** \n",
    "\n",
    "> Write your answer here! \n"
   ]
  },
  {
   "cell_type": "markdown",
   "id": "afbd97fa",
   "metadata": {},
   "source": [
    "## The Data\n",
    "\n",
    "Let's begin by loading our data...\n",
    "\n",
    "\n",
    "The Starbucks data will give you the following information\n",
    "- **Beverage_category** is how Starbucks classifes the drink\n",
    "- **Beverage_cat_short** is a shortened classification for the drink\n",
    "- **Size_and_Milk** is the size of drink and the type of milk used\n",
    "- **Calories** is the number of calories in the drink\n",
    "- **Total_Fat_g** is the Total Fat in the drink in grams\n",
    "\n",
    "and many more\n"
   ]
  },
  {
   "cell_type": "code",
   "execution_count": null,
   "id": "e8cfd5a8",
   "metadata": {},
   "outputs": [],
   "source": [
    "# upload data\n",
    "# https://www.kaggle.com/datasets/starbucks/starbucks-menu\n",
    "\n",
    "import pandas as pd\n",
    "from matplotlib import pyplot as plt\n",
    "import numpy as np\n",
    "import scipy\n",
    "from scipy import stats\n",
    "\n",
    "starbucks_nutr = pd.read_csv('starbucks_drink_nutrition_v2.csv')\n",
    "starbucks_nutr"
   ]
  },
  {
   "cell_type": "code",
   "execution_count": null,
   "id": "4243baf3",
   "metadata": {},
   "outputs": [],
   "source": [
    "# Let's Analyze a few key variables\n",
    "# Select the \"Beverage_cat_short\", \"Calories\", \"Sugar_g\", and \"Caffiene_mg\" columns. Notice the double brackets because we are putting a list in outbreak[...]\n",
    "\n",
    "new_nutr = starbucks_nutr[[\"Beverage_cat_short\" , \"Calories\", \"???\" , \"???\" ]]\n",
    "new_nutr"
   ]
  },
  {
   "cell_type": "code",
   "execution_count": null,
   "id": "0bca0b7c",
   "metadata": {},
   "outputs": [],
   "source": [
    "# Let's look more closely at the first 5 drinks\n",
    "\n",
    "new_nutr[:5]"
   ]
  },
  {
   "cell_type": "code",
   "execution_count": null,
   "id": "2d90917f-7e39-443f-923d-3da8ac279476",
   "metadata": {},
   "outputs": [],
   "source": [
    "# Write a line of code to look at first 30 drinks\n",
    "\n",
    "???"
   ]
  },
  {
   "cell_type": "code",
   "execution_count": null,
   "id": "7e5e1af8-9a6f-45d0-b484-c5dfffa60a4f",
   "metadata": {},
   "outputs": [],
   "source": [
    "# Play around more to look at different sections of the table\n"
   ]
  },
  {
   "cell_type": "markdown",
   "id": "99f88ff5",
   "metadata": {},
   "source": [
    "**Journal Reflection:** Is there a correlation between the variables?\n",
    "\n",
    "\n",
    "**Do you think there is a correleation between calories & sugar?** \n",
    "\n",
    "> Write your answer here! \n",
    "\n",
    "**Do you think there is a correleation between calories & caffiene?** \n",
    "\n",
    "> Write your answer here! \n"
   ]
  },
  {
   "cell_type": "code",
   "execution_count": null,
   "id": "e8e83922",
   "metadata": {},
   "outputs": [],
   "source": [
    "# Let's create a scatterplot to now analyze Calories vs Sugar\n",
    "\n",
    "x = new_nutr['Calories']\n",
    "y = new_nutr['Sugar_g']\n",
    "\n",
    "# Put the dots on the plot\n",
    "plt.scatter(x, y, label = 'Data')\n",
    "\n",
    "# Here we add a line of best fit and the calculation for r\n",
    "slope, intercept, r_value, p_value, std_err = stats.linregress(x, y)\n",
    "line = slope * x + intercept\n",
    "r = r_value\n",
    "\n",
    "# Reveal the plot. \n",
    "plt.plot(x, line, color='red', label='Line of Best Fit')\n",
    "plt.xlabel('Calories')\n",
    "plt.ylabel('Sugar_g')\n",
    "plt.title('Starbucks Drinks')\n",
    "plt.legend()\n",
    "plt.grid(True)\n",
    "plt.show()\n",
    "\n",
    "print(f'The intercept is {intercept}')\n",
    "print(f'The slope is {slope}')\n",
    "\n",
    "print(f'The value of r is {r}')\n"
   ]
  },
  {
   "cell_type": "markdown",
   "id": "be72c5d3",
   "metadata": {},
   "source": [
    "**Journal Reflection:** Visual Displays Help Us See More Clearly\n",
    "\n",
    "**Does the scatter plot and value for r show a correleation between calories & sugar?** \n",
    "\n",
    "> Write your answer here! \n"
   ]
  },
  {
   "cell_type": "code",
   "execution_count": null,
   "id": "49f0481d-0774-4677-b92b-1e85f72d51ba",
   "metadata": {},
   "outputs": [],
   "source": [
    "# name new dataframe to clear up errors of drinks that did not provided erroneous Caffeine amounts\n",
    "\n",
    "new_nutr2 = new_nutr[(new_nutr[\"Caffeine_mg\"] != 1000)]\n",
    "new_nutr2"
   ]
  },
  {
   "cell_type": "code",
   "execution_count": null,
   "id": "07235811",
   "metadata": {},
   "outputs": [],
   "source": [
    "# Now let's create a scatterplot to analyze Calories vs Caffeine\n",
    "\n",
    "a = new_nutr2['Calories']\n",
    "??? = new_nutr2['??']\n",
    "\n",
    "# Put the dots on the plot\n",
    "plt.scatter(a, ???, label = 'Data')\n",
    "\n",
    "# Here we add a line of best fit and the calculation for r\n",
    "slope_new, intercept_new, r_value_new, p_value_new, std_err_new = stats.linregress(???, ???)\n",
    "line_new = slope_new * a + intercept_new\n",
    "r_new = r_value_new\n",
    "\n",
    "# Reveal the plot. \n",
    "plt.plot(a, line_new, color='red', label='Line of Best Fit')\n",
    "plt.xlabel('???')\n",
    "plt.ylabel('???')\n",
    "plt.title('???')\n",
    "plt.legend()\n",
    "plt.grid(True)\n",
    "plt.show()\n",
    "\n",
    "print(f'The intercept is {???}')\n",
    "print(f'The slope is {???}')\n",
    "\n",
    "print(f'The value of r is {???}')"
   ]
  },
  {
   "cell_type": "markdown",
   "id": "54c65eb1-e2f7-407d-b2a2-00d320638da1",
   "metadata": {},
   "source": [
    "**Journal Reflection:** Visual Displays Help Us See More Clearly (pt.2)\n",
    "\n",
    "**Does the scatter plot and value for r show a correleation between calories & caffiene?** \n",
    "\n",
    "> Write your answer here! "
   ]
  },
  {
   "cell_type": "markdown",
   "id": "9cc77f36-19ff-4753-a452-4d7b8bef56d9",
   "metadata": {},
   "source": [
    "## Making Predictions\n",
    "\n",
    "**One of the main uses of scatter plots and regression lines is to make predictions.  Let's make some predictions about the amount of sugar based on the amount of calories.**"
   ]
  },
  {
   "cell_type": "code",
   "execution_count": null,
   "id": "c1c7a1ba-12c0-4cba-8ff2-7b1e949a9a9d",
   "metadata": {},
   "outputs": [],
   "source": [
    "# reload scatterplot and line of best fit info for Calories vs. Sugar\n",
    "\n",
    "x = new_nutr['Calories']\n",
    "y = new_nutr['Sugar_g']\n",
    "\n",
    "plt.scatter(x, y, label = 'Data')\n",
    "\n",
    "slope, intercept, r_value, p_value, std_err = stats.linregress(x, y)\n",
    "line = slope * x + intercept\n",
    "r = r_value\n",
    "\n",
    "plt.plot(x, line, color='red', label='Line of Best Fit')\n",
    "plt.xlabel('Calories')\n",
    "plt.ylabel('Sugar_g')\n",
    "plt.title('Starbucks Drinks')\n",
    "plt.legend()\n",
    "plt.grid(True)\n",
    "plt.show()\n",
    "\n",
    "print(f'The intercept is {intercept}')\n",
    "print(f'The slope is {slope}')\n",
    "\n",
    "print(f'The value of r is {r}')"
   ]
  },
  {
   "cell_type": "markdown",
   "id": "d39fcadf-a097-4dff-b77b-955165fdf1f8",
   "metadata": {},
   "source": [
    "<br> **Make Your Prediction**\n",
    "\n",
    "If a drink has 300 calories, how many grams of sugar will the drink have?  How did you make your prediction?\n",
    "\n",
    "> Write your answer here! \n",
    "\n",
    "\n",
    "If a drink has 427 calories, how many grams of sugar will the drink have?  How did you make you prediction?\n",
    "\n",
    "> Write your answer here! \n"
   ]
  }
 ],
 "metadata": {
  "kernelspec": {
   "display_name": "Python 3",
   "language": "python",
   "name": "python3"
  },
  "language_info": {
   "codemirror_mode": {
    "name": "ipython",
    "version": 3
   },
   "file_extension": ".py",
   "mimetype": "text/x-python",
   "name": "python",
   "nbconvert_exporter": "python",
   "pygments_lexer": "ipython3",
   "version": "3.8.8"
  }
 },
 "nbformat": 4,
 "nbformat_minor": 5
}
