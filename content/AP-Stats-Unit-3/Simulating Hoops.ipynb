{
 "cells": [
  {
   "cell_type": "markdown",
   "id": "b8939d21-64a3-44e2-8fcf-af43f7f9a125",
   "metadata": {},
   "source": [
    "## How Long Will it Take Steph Make Four 3's in a Row?\n",
    "(reminder - you need to fill in all ??? with code)"
   ]
  },
  {
   "cell_type": "markdown",
   "id": "837e1c1f",
   "metadata": {},
   "source": [
    "<img src = \"Steph_follow_through.png\" width=600>"
   ]
  },
  {
   "cell_type": "markdown",
   "id": "dc1d80a3",
   "metadata": {},
   "source": [
    "First, we need to know how often Step Curry makes a 3.  Go to https://www.espn.com/nba/player/_/id/3975/stephen-curry to look up his career percentage.  Fill it in below."
   ]
  },
  {
   "cell_type": "code",
   "execution_count": null,
   "id": "b0669bb5",
   "metadata": {},
   "outputs": [],
   "source": [
    "curry_3 = ???\n",
    "\n",
    "print(f'Steph Curry career 3 point percentage is {curry_3}')"
   ]
  },
  {
   "cell_type": "markdown",
   "id": "a937ecd4",
   "metadata": {},
   "source": [
    "<br>**Journal Reflection:** On First Thought\n",
    "\n",
    "**Steph is practing 3's before the game.  He will keep shooting until he makes four in a row.  How long will it take him?** \n",
    "\n",
    "> Write your answer here! "
   ]
  },
  {
   "cell_type": "markdown",
   "id": "beb1bd03",
   "metadata": {},
   "source": [
    "## Before Simulating 3's, Let's Simulate Coin Flips"
   ]
  },
  {
   "cell_type": "code",
   "execution_count": null,
   "id": "4571e665",
   "metadata": {},
   "outputs": [],
   "source": [
    "# Simulation One Coin Flip\n",
    "\n",
    "import random\n",
    "\n",
    "def simulate_coin_flips():\n",
    "    result = random.choice(['H', 'T'])\n",
    "    return result\n",
    "\n",
    "# Run a single coin flip simulation\n",
    "flip_result = simulate_coin_flips()\n",
    "\n",
    "print(f\"\\nThe result of the coin flip is: {flip_result}\")"
   ]
  },
  {
   "cell_type": "code",
   "execution_count": null,
   "id": "8cff14d0",
   "metadata": {},
   "outputs": [],
   "source": [
    "# Simulate Until Four Heads Comes Up\n",
    "\n",
    "def simulate_coin_flips():\n",
    "    consecutive_heads = 0\n",
    "    flips = 0\n",
    "    flip_results = \" \"\n",
    "    \n",
    "    while consecutive_heads < 4:\n",
    "        result = random.choice(['H', 'T'])\n",
    "        flips += 1\n",
    "        \n",
    "        if result == 'H':\n",
    "            consecutive_heads += 1\n",
    "            flip_results += \"???\"\n",
    "        else:\n",
    "            consecutive_heads = 0\n",
    "            flip_results += \"???\"\n",
    "    \n",
    "    print(flip_results, end=\" \")\n",
    "    print(f\"\\n\\nIt took {flips} flips to get four heads in a row.\")\n",
    "\n",
    "# Run the simulation\n",
    "simulate_coin_flips()"
   ]
  },
  {
   "cell_type": "code",
   "execution_count": null,
   "id": "6a0f82a4",
   "metadata": {},
   "outputs": [],
   "source": [
    "# Now Simulate 50 times\n",
    "\n",
    "def simulate_coin_flips():\n",
    "    consecutive_heads = 0\n",
    "    flips = 0\n",
    "    flip_results = \" \"\n",
    "    \n",
    "    while consecutive_heads < 4:\n",
    "        result = random.choice([???])\n",
    "        flips += 1\n",
    "        \n",
    "        if result == 'H':\n",
    "            consecutive_heads += 1\n",
    "            flip_results += \"???\"\n",
    "        else:\n",
    "            consecutive_heads = 0\n",
    "            flip_results += \"???\"\n",
    "    \n",
    "    return flips, flip_results\n",
    "\n",
    "# Run the simulation 50 times\n",
    "simulations = 50\n",
    "total_flips = 0\n",
    "all_results = \" \"\n",
    "\n",
    "for i in range(simulations):\n",
    "    flips, flip_results = simulate_coin_flips()\n",
    "    total_flips += flips\n",
    "    all_results += flip_results + \" \"\n",
    "    print(f\"Simulation {i}: {flip_results}\")\n",
    "\n",
    "average_flips = total_flips / simulations\n",
    "print(f\"\\nOn average it took {???} to get 4 heads in a row\")"
   ]
  },
  {
   "cell_type": "markdown",
   "id": "d0fbc9d5",
   "metadata": {},
   "source": [
    "## Time to Simulate Shooting 3's!"
   ]
  },
  {
   "cell_type": "markdown",
   "id": "3d6b2d44-46f0-43bf-b337-f7c2b25c0b57",
   "metadata": {},
   "source": [
    "**Journal Reflection:** Thinking Before Doing\n",
    "\n",
    "**How can we use random digits to simulate Steph continuting to shoot 3's until he makes four in a row?** \n",
    "\n",
    "> Write your answer here! "
   ]
  },
  {
   "cell_type": "code",
   "execution_count": null,
   "id": "def6676e-e2f8-4763-a0b2-b3e896ed3359",
   "metadata": {},
   "outputs": [],
   "source": [
    "# Simulate Random Number\n",
    "\n",
    "import random\n",
    "random.randint(1,1000)"
   ]
  },
  {
   "cell_type": "code",
   "execution_count": null,
   "id": "2c1be46c-8e82-4934-978f-b886240220d2",
   "metadata": {},
   "outputs": [],
   "source": [
    "# Simulate One Shot\n",
    "\n",
    "def simulate_threes():\n",
    "    result = random.randint(1,1000)\n",
    "    shot_result = \" \"\n",
    "    \n",
    "    if result <= ???:\n",
    "        shot_result = \"made\"\n",
    "    \n",
    "    else:\n",
    "        shot_result = \"missed\"\n",
    "    \n",
    "    return shot_result\n",
    "\n",
    "sim = simulate_threes()\n",
    "print(f\"\\nSteph Curry just {sim} the shot\\n\")"
   ]
  },
  {
   "cell_type": "code",
   "execution_count": null,
   "id": "630c2ac6",
   "metadata": {},
   "outputs": [],
   "source": [
    "# Simulate Unitl Steph Makes Four 3's in a Row\n",
    "\n",
    "def simulate_threes():\n",
    "    consecutive_made = 0\n",
    "    shots = 0\n",
    "    shot_result = \" \"\n",
    "    \n",
    "    while consecutive_made <4:\n",
    "        result = random.randint(1,1000)\n",
    "        shots += 1\n",
    "        \n",
    "        if result <= ???:\n",
    "            consecutive_made += 1\n",
    "            shot_result += \"??? \"\n",
    "        \n",
    "        else:\n",
    "            consecutive_made = 0\n",
    "            shot_result += \"??? \"\n",
    "\n",
    "    print(shot_result, end=\" \")\n",
    "    print(f\"\\n\\nIt took {shots} shots for Steph Curry to make four 3s in a row.\")\n",
    "\n",
    "# Run the simulation\n",
    "simulate_threes()"
   ]
  },
  {
   "cell_type": "code",
   "execution_count": null,
   "id": "502d9997-dead-438f-af83-9e4cef2d9cca",
   "metadata": {},
   "outputs": [],
   "source": [
    "# Now Simulate 50 times\n",
    "\n",
    "def simulate_threes():\n",
    "    consecutive_made = 0\n",
    "    shots = 0\n",
    "    shot_result = \" \"\n",
    "    \n",
    "    while consecutive_made <4:\n",
    "        result = random.randint(1,1000)\n",
    "        shots += 1\n",
    "        \n",
    "        if result <= ???:\n",
    "            consecutive_made += 1\n",
    "            shot_result += \"??? \"\n",
    "        \n",
    "        else:\n",
    "            consecutive_made = 0\n",
    "            shot_result += \"??? \"\n",
    "        \n",
    "    return shots, shot_result\n",
    "\n",
    "# Run the simulation 50 times\n",
    "simulations = 50\n",
    "total_shots = 0\n",
    "all_results = \" \"\n",
    "\n",
    "for i in range(simulations):\n",
    "    shots, shot_result = simulate_threes()\n",
    "    total_shots += shots\n",
    "    all_results += shot_result + \" \"\n",
    "    print(f\"\\nSimulation {i}: {shot_result}\")\n",
    "\n",
    "average_shots = ??? / ???\n",
    "print(f\"\\nOn average it took {???} shots for Steph Curry to make four 3's in a row\")"
   ]
  }
 ],
 "metadata": {
  "kernelspec": {
   "display_name": "Python 3",
   "language": "python",
   "name": "python3"
  },
  "language_info": {
   "codemirror_mode": {
    "name": "ipython",
    "version": 3
   },
   "file_extension": ".py",
   "mimetype": "text/x-python",
   "name": "python",
   "nbconvert_exporter": "python",
   "pygments_lexer": "ipython3",
   "version": "3.8.8"
  }
 },
 "nbformat": 4,
 "nbformat_minor": 5
}
