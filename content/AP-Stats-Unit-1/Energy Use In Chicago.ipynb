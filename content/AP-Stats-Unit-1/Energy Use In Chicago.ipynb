{
 "cells": [
  {
   "cell_type": "markdown",
   "id": "f7e517c5-9805-4f93-99ef-48088d01029e",
   "metadata": {},
   "source": [
    "## Energy Use In Chicago"
   ]
  },
  {
   "cell_type": "markdown",
   "id": "f9e4917d-3bc1-4609-b753-935de89a59c6",
   "metadata": {},
   "source": [
    "**Journal Reflection:** Our First Guess"
   ]
  },
  {
   "cell_type": "markdown",
   "id": "c3387e50-1bdf-427d-a75f-34d5202f44e4",
   "metadata": {},
   "source": [
    "<img src = \"Chicago_Hoods.png\" width=400>"
   ]
  },
  {
   "cell_type": "markdown",
   "id": "41d97379-4378-4921-b9ac-a963de29f7fa",
   "metadata": {},
   "source": [
    "**Which neighborhoods consume more energy - Northside, Southside, or consume equally?** \n",
    "\n",
    "> Write your answer here! \n"
   ]
  },
  {
   "cell_type": "markdown",
   "id": "5515282f-2acc-43b4-944e-8f8e6c71284d",
   "metadata": {},
   "source": [
    "## The Data\n",
    "\n",
    "Let's begin by loading our data...\n",
    "\n",
    "\n",
    "The data from Chicago will give you the following information\n",
    "- **community_area_name** is a list of the Chicago Neighborhood\n",
    "- **north_or_south** states if the Chicago Neighbordhood is North or South when city is divided in half\n",
    "- **kwh_total_sqft** is total kwh used per a square foot in the neighborhood"
   ]
  },
  {
   "cell_type": "code",
   "execution_count": null,
   "id": "adc1a54d-c128-4bff-b4ef-e19b29ddb71c",
   "metadata": {},
   "outputs": [],
   "source": [
    "# upload data from city of chicago website \n",
    "# (https://data.cityofchicago.org/Environment-Sustainable-Development/Average-Electricity-Usage-per-Square-Foot-by-Commu/usfg-z9mx)\n",
    "\n",
    "import pandas as pd\n",
    "from matplotlib import pyplot as plt\n",
    "\n",
    "average_energy_use = pd.read_csv('Average_Electricity_Usage_by_Community_Area.csv')\n",
    "average_energy_use"
   ]
  },
  {
   "cell_type": "code",
   "execution_count": null,
   "id": "297d15d8",
   "metadata": {},
   "outputs": [],
   "source": [
    "# Okay, let's just look at only the South Side Neighborhoods\n",
    "\n",
    "just_south = average_energy_use[(average_energy_use['north_or_south'] == 'South')]\n",
    "just_south"
   ]
  },
  {
   "cell_type": "code",
   "execution_count": null,
   "id": "19a5a190",
   "metadata": {},
   "outputs": [],
   "source": [
    "# Okay, let's just look at only the North Side Neighborhoods\n",
    "\n",
    "just_north = average_energy_use[(average_energy_use['???'] == '???')]\n",
    "just_north"
   ]
  },
  {
   "cell_type": "markdown",
   "id": "e8202a12",
   "metadata": {},
   "source": [
    "**Journal Reflection:** On First Glance\n",
    "\n",
    "**Which neighborhoods consume more energy - Northside, Southside, or consume equally?** \n",
    "\n",
    "> Write your answer here! "
   ]
  },
  {
   "cell_type": "markdown",
   "id": "cae5665a-aa51-40cf-b4f8-84b96b69e5eb",
   "metadata": {},
   "source": [
    "## Breaking Down the Data\n",
    "\n",
    "Now let's breakdown data to look at total north side and south side neighborhoods and total high use hoods (>17500) and low use hoods (<=17500)\n"
   ]
  },
  {
   "cell_type": "code",
   "execution_count": null,
   "id": "5e2156bb-64b8-42fc-8260-ab29326eaf3d",
   "metadata": {},
   "outputs": [],
   "source": [
    "north_side_hoods = sum(average_energy_use['north_or_south'] == \"North\")\n",
    "\n",
    "south_side_hoods = sum(average_energy_use[???] == ???)\n",
    "\n",
    "low_use_hoods = sum(average_energy_use['kwh_total_sqft'] <= 17500)\n",
    "\n",
    "high_use_hoods = sum(average_energy_use[???] > ???)\n",
    "\n",
    "total_hoods = north_side_hoods + south_side_hoods\n",
    "\n",
    "\n",
    "print(f\"Number of north side hoods: {north_side_hoods}\")\n",
    "print(f\"Number of south side hoods: {south_side_hoods}\")\n",
    "print(f\"Number of low use hoods: {low_use_hoods}\")\n",
    "print(f\"Number of high use hoods: {high_use_hoods}\")\n",
    "print(f\"Total number of hoods: {total_hoods}\")"
   ]
  },
  {
   "cell_type": "markdown",
   "id": "f5e45373-39be-45c6-8271-22c3e321d135",
   "metadata": {},
   "source": [
    "\n",
    "## Breaking Down the Data Further\n",
    "\n",
    "Now let's breakdown data based on the side of the city and whether they are a high usage neighbordhood (> 17500) or a low usage neighborhood (>17500)\n"
   ]
  },
  {
   "cell_type": "code",
   "execution_count": null,
   "id": "50cfbeff-4506-4013-a80c-45717ba29a2e",
   "metadata": {},
   "outputs": [],
   "source": [
    "north_side_hoods_low = sum((average_energy_use['north_or_south'] == \"North\") & (average_energy_use['kwh_total_sqft'] <= 17500))\n",
    "\n",
    "south_side_hoods_low = sum((average_energy_use['north_or_south'] == \"South\") & (average_energy_use['kwh_total_sqft'] <= 17500))\n",
    "\n",
    "north_side_hoods_high = ??? \n",
    "\n",
    "south_side_hoods_high = ???\n",
    "\n",
    "\n",
    "print(f\"Number of north side hoods with low usage: {north_side_hoods_low}\")\n",
    "print(f\"Number of south side hoods with low usage: {south_side_hoods_low}\")\n",
    "print(f\"Number of north side hoods with high usage: {north_side_hoods_high}\")\n",
    "print(f\"Number of south side hoods with high usage: {south_side_hoods_high}\")\n",
    "print(f\"Total number of hoods: {total_hoods}\")"
   ]
  },
  {
   "cell_type": "code",
   "execution_count": null,
   "id": "9d8b8a95-f4d7-4b7f-9780-d9abeb4b4c84",
   "metadata": {
    "scrolled": true
   },
   "outputs": [],
   "source": [
    "# Now let's put it all together into a contingency table with the following shape! \n",
    "\n",
    "def visualize_contingency_table(contingency_table, top_labels, left_labels):\n",
    "    # print(\"\\t\\t  Close | Far \")\n",
    "    print('{:<15s} {:<15s} {:<20s}'.format(top_labels[0], top_labels[1], top_labels[2]))\n",
    "\n",
    "    i = 0\n",
    "    for line in contingency_table:\n",
    "        print('{:<15s} {:<15d} {:<20d}'.format(left_labels[i], contingency_table[i][0], contingency_table[i][1]))\n",
    "        i += 1\n",
    "    \n",
    "top_labels = [\" \", \"North Side\", \"South Side\"]\n",
    "left_labels = [\"Low Use\", \"High Use\", \" \"]\n",
    "\n",
    "contingency_table = [\n",
    "    [north_side_hoods_low, south_side_hoods_low],\n",
    "    [north_side_hoods_high, south_side_hoods_high]\n",
    "] \n",
    "\n",
    "print(\"Contingency Table of Chicago Energy Usage:\")\n",
    "visualize_contingency_table(contingency_table, top_labels, left_labels)"
   ]
  },
  {
   "cell_type": "markdown",
   "id": "829a7484",
   "metadata": {},
   "source": [
    "**What do you think?**\n",
    "\n",
    "Now that you have a contigency table, decide whether the Northside or Southside neighborhoods use more energy, or they consume equally?  Make sure to justify your answer with data & statistics from above.\n",
    "\n",
    "> Write your answer here! "
   ]
  },
  {
   "cell_type": "markdown",
   "id": "f26a0e72-e907-45a6-bc68-f0dab3f3d480",
   "metadata": {},
   "source": [
    "## Visual Display\n",
    "\n",
    "Statisticians always want to have displays in which the typical person can look and come to a conclusion within 30 seconds of reading.  "
   ]
  },
  {
   "cell_type": "code",
   "execution_count": null,
   "id": "8284fa00",
   "metadata": {},
   "outputs": [],
   "source": [
    "# Turn the values into percentages\n",
    "\n",
    "low_north_percent = north_side_hoods_low / north_side_hoods\n",
    "low_south_percent = south_side_hoods_low / south_side_hoods\n",
    "high_north_percent = ??? / ???\n",
    "high_south_percent = ??? / ???\n",
    "\n",
    "print(f\"Percent of low use hoods on north side: {low_north_percent}\")\n",
    "print(f\"Percent of low use hoods on south side: {low_south_percent}\")\n",
    "print(f\"Percent of high use hoods on north side: {high_north_percent}\")\n",
    "print(f\"Percent of high use hoods on south side: {high_south_percent}\")"
   ]
  },
  {
   "cell_type": "code",
   "execution_count": null,
   "id": "ce93dc91-08d0-4eeb-b78e-dd3b9bddde93",
   "metadata": {},
   "outputs": [],
   "source": [
    "# Let's visualize the data with side by side bar graph\n",
    "\n",
    "# Let's first view the low use hoods\n",
    "plt.bar(x=['North', 'South'], \n",
    "        height=[low_north_percent , low_south_percent], color='purple', label='Low Use Neighboorhoods')\n",
    "\n",
    "# Now let's view the high use hoods.\n",
    "plt.bar(x=['North Side', 'South Side'], \n",
    "        height=[high_north_percent, high_south_percent], color='gold', label='High Use Neighborhoods')\n",
    "\n",
    "plt.ylim((0,0.75))\n",
    "plt.ylabel(\"Relative Frequency\")\n",
    "plt.title(\"Energy Use In Chicago\")\n",
    "plt.legend()"
   ]
  },
  {
   "cell_type": "markdown",
   "id": "19e11efd-8dd8-4ef1-983f-02f1be805e07",
   "metadata": {},
   "source": [
    "**Journal Reflection:** On Second Glance\n",
    "\n",
    "**Does there appear to be a significant difference which side of the city you live on and whether or not the neighborhood is high usage?** \n",
    "\n",
    "> Write your answer here! \n",
    "\n",
    "**What questions does our new analysis raise?** \n",
    "\n",
    "> Write your answer here! "
   ]
  },
  {
   "cell_type": "code",
   "execution_count": null,
   "id": "38ab6b4e-184a-43da-bdc2-19e5bac1dfbf",
   "metadata": {},
   "outputs": [],
   "source": []
  }
 ],
 "metadata": {
  "kernelspec": {
   "display_name": "Python 3",
   "language": "python",
   "name": "python3"
  },
  "language_info": {
   "codemirror_mode": {
    "name": "ipython",
    "version": 3
   },
   "file_extension": ".py",
   "mimetype": "text/x-python",
   "name": "python",
   "nbconvert_exporter": "python",
   "pygments_lexer": "ipython3",
   "version": "3.8.8"
  }
 },
 "nbformat": 4,
 "nbformat_minor": 5
}
